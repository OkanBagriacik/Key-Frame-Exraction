{
 "cells": [
  {
   "cell_type": "code",
   "execution_count": 1,
   "id": "c869679d-3ad1-4af1-a0f7-60d72fda0d31",
   "metadata": {},
   "outputs": [],
   "source": [
    "import cv2\n",
    "\n",
    "# Write location for the extracted webcam feed.\n",
    "# NOTE: '_' is included because of the naming convention\n",
    "# used for the images eg. _20.jpg, _21.jpg etc...\n",
    "WRITE_BUFFER_LOCATION = \"/Users/okanbagriacik/Desktop/Kareler/_\"\n",
    "\n",
    "NUMBER_OF_FRAMES = 300\n",
    "\n",
    "cap = cv2.VideoCapture(0)\n",
    "# Capture first frame.\n",
    "ret0, frame0 = cap.read()\n",
    "init_gray = cv2.cvtColor(frame0, cv2.COLOR_BGR2GRAY)\n",
    "cv2.imwrite(WRITE_BUFFER_LOCATION + str(0) + \".jpg\", init_gray)\n",
    "i = 1\n",
    "\n",
    "for j in range(0, NUMBER_OF_FRAMES):\n",
    "    # Capture second frame.\n",
    "    ret, frame1 = cap.read()\n",
    "\n",
    "    # Convert frames to grayscale. (ie. previous and current frames)\n",
    "    gray0 = cv2.cvtColor(frame0, cv2.COLOR_BGR2GRAY)\n",
    "    gray1 = cv2.cvtColor(frame1, cv2.COLOR_BGR2GRAY)\n",
    "\n",
    "    # Display the current frame.\n",
    "    cv2.imshow('frame1',gray1)\n",
    "    cv2.imwrite(WRITE_BUFFER_LOCATION + str(i) + \".jpg\", gray1)\n",
    "\n",
    "    if cv2.waitKey(1) & 0xFF == ord('q'):\n",
    "        break\n",
    "    # Set previous frame.\n",
    "    ret0, frame0 = cap.read()\n",
    "    i += 1\n",
    "\n",
    "# When everything done, release the capture\n",
    "\n",
    "cap.release()\n",
    "cv2.destroyAllWindows()"
   ]
  },
  {
   "cell_type": "code",
   "execution_count": null,
   "id": "611c1717-1c34-43b9-b564-04ae7d0a81ae",
   "metadata": {},
   "outputs": [],
   "source": []
  }
 ],
 "metadata": {
  "kernelspec": {
   "display_name": "Python 3 (ipykernel)",
   "language": "python",
   "name": "python3"
  },
  "language_info": {
   "codemirror_mode": {
    "name": "ipython",
    "version": 3
   },
   "file_extension": ".py",
   "mimetype": "text/x-python",
   "name": "python",
   "nbconvert_exporter": "python",
   "pygments_lexer": "ipython3",
   "version": "3.10.0"
  }
 },
 "nbformat": 4,
 "nbformat_minor": 5
}
